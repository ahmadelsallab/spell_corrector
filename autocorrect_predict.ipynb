{
 "cells": [
  {
   "cell_type": "code",
   "execution_count": 1,
   "metadata": {},
   "outputs": [],
   "source": [
    "from autocorrect import spell"
   ]
  },
  {
   "cell_type": "code",
   "execution_count": 2,
   "metadata": {},
   "outputs": [],
   "source": [
    "word = 'Cender'"
   ]
  },
  {
   "cell_type": "code",
   "execution_count": 3,
   "metadata": {},
   "outputs": [
    {
     "data": {
      "text/plain": [
       "'Gender'"
      ]
     },
     "execution_count": 3,
     "metadata": {},
     "output_type": "execute_result"
    }
   ],
   "source": [
    "spell(word)"
   ]
  },
  {
   "cell_type": "code",
   "execution_count": 4,
   "metadata": {},
   "outputs": [],
   "source": [
    "from autocorrect.nlp_parser import NLP_COUNTS\n",
    "from autocorrect.word import Word, common, exact, known, get_case"
   ]
  },
  {
   "cell_type": "code",
   "execution_count": 5,
   "metadata": {},
   "outputs": [],
   "source": [
    "w = Word(word)"
   ]
  },
  {
   "cell_type": "code",
   "execution_count": 6,
   "metadata": {},
   "outputs": [
    {
     "data": {
      "text/plain": [
       "set()"
      ]
     },
     "execution_count": 6,
     "metadata": {},
     "output_type": "execute_result"
    }
   ],
   "source": [
    "common([word])"
   ]
  },
  {
   "cell_type": "code",
   "execution_count": 7,
   "metadata": {},
   "outputs": [
    {
     "data": {
      "text/plain": [
       "set()"
      ]
     },
     "execution_count": 7,
     "metadata": {},
     "output_type": "execute_result"
    }
   ],
   "source": [
    "exact([word])"
   ]
  },
  {
   "cell_type": "code",
   "execution_count": 8,
   "metadata": {},
   "outputs": [
    {
     "data": {
      "text/plain": [
       "set()"
      ]
     },
     "execution_count": 8,
     "metadata": {},
     "output_type": "execute_result"
    }
   ],
   "source": [
    "known([word])"
   ]
  },
  {
   "cell_type": "code",
   "execution_count": 9,
   "metadata": {},
   "outputs": [
    {
     "data": {
      "text/plain": [
       "{'acender',\n",
       " 'aender',\n",
       " 'bcender',\n",
       " 'bender',\n",
       " 'caender',\n",
       " 'cander',\n",
       " 'cbender',\n",
       " 'cbnder',\n",
       " 'ccender',\n",
       " 'ccnder',\n",
       " 'cdender',\n",
       " 'cdnder',\n",
       " 'ceader',\n",
       " 'ceander',\n",
       " 'cebder',\n",
       " 'cebnder',\n",
       " 'cecder',\n",
       " 'cecnder',\n",
       " 'cedder',\n",
       " 'ceder',\n",
       " 'cednder',\n",
       " 'cedner',\n",
       " 'ceeder',\n",
       " 'ceender',\n",
       " 'cefder',\n",
       " 'cefnder',\n",
       " 'cegder',\n",
       " 'cegnder',\n",
       " 'cehder',\n",
       " 'cehnder',\n",
       " 'ceider',\n",
       " 'ceinder',\n",
       " 'cejder',\n",
       " 'cejnder',\n",
       " 'cekder',\n",
       " 'ceknder',\n",
       " 'celder',\n",
       " 'celnder',\n",
       " 'cemder',\n",
       " 'cemnder',\n",
       " 'cenader',\n",
       " 'cenaer',\n",
       " 'cenbder',\n",
       " 'cenber',\n",
       " 'cencder',\n",
       " 'cencer',\n",
       " 'cendaer',\n",
       " 'cendar',\n",
       " 'cendber',\n",
       " 'cendbr',\n",
       " 'cendcer',\n",
       " 'cendcr',\n",
       " 'cendder',\n",
       " 'cenddr',\n",
       " 'cende',\n",
       " 'cendea',\n",
       " 'cendear',\n",
       " 'cendeb',\n",
       " 'cendebr',\n",
       " 'cendec',\n",
       " 'cendecr',\n",
       " 'cended',\n",
       " 'cendedr',\n",
       " 'cendee',\n",
       " 'cendeer',\n",
       " 'cendef',\n",
       " 'cendefr',\n",
       " 'cendeg',\n",
       " 'cendegr',\n",
       " 'cendeh',\n",
       " 'cendehr',\n",
       " 'cendei',\n",
       " 'cendeir',\n",
       " 'cendej',\n",
       " 'cendejr',\n",
       " 'cendek',\n",
       " 'cendekr',\n",
       " 'cendel',\n",
       " 'cendelr',\n",
       " 'cendem',\n",
       " 'cendemr',\n",
       " 'cenden',\n",
       " 'cendenr',\n",
       " 'cendeo',\n",
       " 'cendeor',\n",
       " 'cendep',\n",
       " 'cendepr',\n",
       " 'cendeq',\n",
       " 'cendeqr',\n",
       " 'cender',\n",
       " 'cendera',\n",
       " 'cenderb',\n",
       " 'cenderc',\n",
       " 'cenderd',\n",
       " 'cendere',\n",
       " 'cenderf',\n",
       " 'cenderg',\n",
       " 'cenderh',\n",
       " 'cenderi',\n",
       " 'cenderj',\n",
       " 'cenderk',\n",
       " 'cenderl',\n",
       " 'cenderm',\n",
       " 'cendern',\n",
       " 'cendero',\n",
       " 'cenderp',\n",
       " 'cenderq',\n",
       " 'cenderr',\n",
       " 'cenders',\n",
       " 'cendert',\n",
       " 'cenderu',\n",
       " 'cenderv',\n",
       " 'cenderw',\n",
       " 'cenderx',\n",
       " 'cendery',\n",
       " 'cenderz',\n",
       " 'cendes',\n",
       " 'cendesr',\n",
       " 'cendet',\n",
       " 'cendetr',\n",
       " 'cendeu',\n",
       " 'cendeur',\n",
       " 'cendev',\n",
       " 'cendevr',\n",
       " 'cendew',\n",
       " 'cendewr',\n",
       " 'cendex',\n",
       " 'cendexr',\n",
       " 'cendey',\n",
       " 'cendeyr',\n",
       " 'cendez',\n",
       " 'cendezr',\n",
       " 'cendfer',\n",
       " 'cendfr',\n",
       " 'cendger',\n",
       " 'cendgr',\n",
       " 'cendher',\n",
       " 'cendhr',\n",
       " 'cendier',\n",
       " 'cendir',\n",
       " 'cendjer',\n",
       " 'cendjr',\n",
       " 'cendker',\n",
       " 'cendkr',\n",
       " 'cendler',\n",
       " 'cendlr',\n",
       " 'cendmer',\n",
       " 'cendmr',\n",
       " 'cendner',\n",
       " 'cendnr',\n",
       " 'cendoer',\n",
       " 'cendor',\n",
       " 'cendper',\n",
       " 'cendpr',\n",
       " 'cendqer',\n",
       " 'cendqr',\n",
       " 'cendr',\n",
       " 'cendre',\n",
       " 'cendrer',\n",
       " 'cendrr',\n",
       " 'cendser',\n",
       " 'cendsr',\n",
       " 'cendter',\n",
       " 'cendtr',\n",
       " 'cenduer',\n",
       " 'cendur',\n",
       " 'cendver',\n",
       " 'cendvr',\n",
       " 'cendwer',\n",
       " 'cendwr',\n",
       " 'cendxer',\n",
       " 'cendxr',\n",
       " 'cendyer',\n",
       " 'cendyr',\n",
       " 'cendzer',\n",
       " 'cendzr',\n",
       " 'ceneder',\n",
       " 'cenedr',\n",
       " 'ceneer',\n",
       " 'cener',\n",
       " 'cenfder',\n",
       " 'cenfer',\n",
       " 'cengder',\n",
       " 'cenger',\n",
       " 'cenhder',\n",
       " 'cenher',\n",
       " 'cenider',\n",
       " 'cenier',\n",
       " 'cenjder',\n",
       " 'cenjer',\n",
       " 'cenkder',\n",
       " 'cenker',\n",
       " 'cenlder',\n",
       " 'cenler',\n",
       " 'cenmder',\n",
       " 'cenmer',\n",
       " 'cennder',\n",
       " 'cenner',\n",
       " 'cenoder',\n",
       " 'cenoer',\n",
       " 'cenpder',\n",
       " 'cenper',\n",
       " 'cenqder',\n",
       " 'cenqer',\n",
       " 'cenrder',\n",
       " 'cenrer',\n",
       " 'censder',\n",
       " 'censer',\n",
       " 'centder',\n",
       " 'center',\n",
       " 'cenuder',\n",
       " 'cenuer',\n",
       " 'cenvder',\n",
       " 'cenver',\n",
       " 'cenwder',\n",
       " 'cenwer',\n",
       " 'cenxder',\n",
       " 'cenxer',\n",
       " 'cenyder',\n",
       " 'cenyer',\n",
       " 'cenzder',\n",
       " 'cenzer',\n",
       " 'ceoder',\n",
       " 'ceonder',\n",
       " 'cepder',\n",
       " 'cepnder',\n",
       " 'ceqder',\n",
       " 'ceqnder',\n",
       " 'cerder',\n",
       " 'cernder',\n",
       " 'cesder',\n",
       " 'cesnder',\n",
       " 'cetder',\n",
       " 'cetnder',\n",
       " 'ceuder',\n",
       " 'ceunder',\n",
       " 'cevder',\n",
       " 'cevnder',\n",
       " 'cewder',\n",
       " 'cewnder',\n",
       " 'cexder',\n",
       " 'cexnder',\n",
       " 'ceyder',\n",
       " 'ceynder',\n",
       " 'cezder',\n",
       " 'ceznder',\n",
       " 'cfender',\n",
       " 'cfnder',\n",
       " 'cgender',\n",
       " 'cgnder',\n",
       " 'chender',\n",
       " 'chnder',\n",
       " 'ciender',\n",
       " 'cinder',\n",
       " 'cjender',\n",
       " 'cjnder',\n",
       " 'ckender',\n",
       " 'cknder',\n",
       " 'clender',\n",
       " 'clnder',\n",
       " 'cmender',\n",
       " 'cmnder',\n",
       " 'cnder',\n",
       " 'cneder',\n",
       " 'cnender',\n",
       " 'cnnder',\n",
       " 'coender',\n",
       " 'conder',\n",
       " 'cpender',\n",
       " 'cpnder',\n",
       " 'cqender',\n",
       " 'cqnder',\n",
       " 'crender',\n",
       " 'crnder',\n",
       " 'csender',\n",
       " 'csnder',\n",
       " 'ctender',\n",
       " 'ctnder',\n",
       " 'cuender',\n",
       " 'cunder',\n",
       " 'cvender',\n",
       " 'cvnder',\n",
       " 'cwender',\n",
       " 'cwnder',\n",
       " 'cxender',\n",
       " 'cxnder',\n",
       " 'cyender',\n",
       " 'cynder',\n",
       " 'czender',\n",
       " 'cznder',\n",
       " 'dcender',\n",
       " 'dender',\n",
       " 'ecender',\n",
       " 'ecnder',\n",
       " 'eender',\n",
       " 'ender',\n",
       " 'fcender',\n",
       " 'fender',\n",
       " 'gcender',\n",
       " 'gender',\n",
       " 'hcender',\n",
       " 'hender',\n",
       " 'icender',\n",
       " 'iender',\n",
       " 'jcender',\n",
       " 'jender',\n",
       " 'kcender',\n",
       " 'kender',\n",
       " 'lcender',\n",
       " 'lender',\n",
       " 'mcender',\n",
       " 'mender',\n",
       " 'ncender',\n",
       " 'nender',\n",
       " 'ocender',\n",
       " 'oender',\n",
       " 'pcender',\n",
       " 'pender',\n",
       " 'qcender',\n",
       " 'qender',\n",
       " 'rcender',\n",
       " 'render',\n",
       " 'scender',\n",
       " 'sender',\n",
       " 'tcender',\n",
       " 'tender',\n",
       " 'ucender',\n",
       " 'uender',\n",
       " 'vcender',\n",
       " 'vender',\n",
       " 'wcender',\n",
       " 'wender',\n",
       " 'xcender',\n",
       " 'xender',\n",
       " 'ycender',\n",
       " 'yender',\n",
       " 'zcender',\n",
       " 'zender'}"
      ]
     },
     "execution_count": 9,
     "metadata": {},
     "output_type": "execute_result"
    }
   ],
   "source": [
    "w.typos()"
   ]
  },
  {
   "cell_type": "code",
   "execution_count": 10,
   "metadata": {},
   "outputs": [
    {
     "data": {
      "text/plain": [
       "{'bender',\n",
       " 'ceder',\n",
       " 'cendr',\n",
       " 'cendre',\n",
       " 'censer',\n",
       " 'center',\n",
       " 'cinder',\n",
       " 'conder',\n",
       " 'ender',\n",
       " 'fender',\n",
       " 'gender',\n",
       " 'lender',\n",
       " 'mender',\n",
       " 'pender',\n",
       " 'render',\n",
       " 'sender',\n",
       " 'tender',\n",
       " 'vender',\n",
       " 'yender'}"
      ]
     },
     "execution_count": 10,
     "metadata": {},
     "output_type": "execute_result"
    }
   ],
   "source": [
    "known(w.typos())"
   ]
  },
  {
   "cell_type": "code",
   "execution_count": 11,
   "metadata": {},
   "outputs": [
    {
     "data": {
      "text/plain": [
       "{'cancer',\n",
       " 'cedar',\n",
       " 'center',\n",
       " 'centre',\n",
       " 'ended',\n",
       " 'enter',\n",
       " 'feeder',\n",
       " 'header',\n",
       " 'leader',\n",
       " 'tender',\n",
       " 'under',\n",
       " 'vendor',\n",
       " 'welder'}"
      ]
     },
     "execution_count": 11,
     "metadata": {},
     "output_type": "execute_result"
    }
   ],
   "source": [
    "common(w.double_typos())"
   ]
  },
  {
   "cell_type": "code",
   "execution_count": 12,
   "metadata": {},
   "outputs": [
    {
     "data": {
      "text/plain": [
       "{'bender',\n",
       " 'ceder',\n",
       " 'cendr',\n",
       " 'cendre',\n",
       " 'censer',\n",
       " 'center',\n",
       " 'cinder',\n",
       " 'conder',\n",
       " 'ender',\n",
       " 'fender',\n",
       " 'gender',\n",
       " 'lender',\n",
       " 'mender',\n",
       " 'pender',\n",
       " 'render',\n",
       " 'sender',\n",
       " 'tender',\n",
       " 'vender',\n",
       " 'yender'}"
      ]
     },
     "execution_count": 12,
     "metadata": {},
     "output_type": "execute_result"
    }
   ],
   "source": [
    "candidates = (common([word]) or exact([word]) or known([word]) or\n",
    "              known(w.typos()) or common(w.double_typos()) or\n",
    "              [word])\n",
    "candidates"
   ]
  },
  {
   "cell_type": "code",
   "execution_count": 13,
   "metadata": {},
   "outputs": [
    {
     "name": "stdout",
     "output_type": "stream",
     "text": [
      "yender : 0\n",
      "render : 0\n",
      "fender : 4\n",
      "center : 24\n",
      "cinder : 0\n",
      "gender : 50\n",
      "ender : 0\n",
      "mender : 0\n",
      "pender : 0\n",
      "conder : 0\n",
      "censer : 0\n",
      "cendre : 0\n",
      "tender : 12\n",
      "vender : 0\n",
      "cendr : 0\n",
      "bender : 0\n",
      "lender : 0\n",
      "sender : 0\n",
      "ceder : 0\n"
     ]
    }
   ],
   "source": [
    "for candidate in candidates:\n",
    "    print(candidate + ' : ' + str(NLP_COUNTS.get(candidate)))"
   ]
  },
  {
   "cell_type": "code",
   "execution_count": 14,
   "metadata": {},
   "outputs": [
    {
     "data": {
      "text/plain": [
       "12"
      ]
     },
     "execution_count": 14,
     "metadata": {},
     "output_type": "execute_result"
    }
   ],
   "source": [
    "NLP_COUNTS['tender']"
   ]
  },
  {
   "cell_type": "code",
   "execution_count": null,
   "metadata": {},
   "outputs": [],
   "source": []
  }
 ],
 "metadata": {
  "kernelspec": {
   "display_name": "Python 3",
   "language": "python",
   "name": "python3"
  },
  "language_info": {
   "codemirror_mode": {
    "name": "ipython",
    "version": 3
   },
   "file_extension": ".py",
   "mimetype": "text/x-python",
   "name": "python",
   "nbconvert_exporter": "python",
   "pygments_lexer": "ipython3",
   "version": "3.6.4"
  }
 },
 "nbformat": 4,
 "nbformat_minor": 2
}
