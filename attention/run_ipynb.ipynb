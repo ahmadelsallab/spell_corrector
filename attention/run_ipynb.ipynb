{
 "cells": [
  {
   "cell_type": "code",
   "execution_count": 8,
   "metadata": {},
   "outputs": [
    {
     "name": "stdout",
     "output_type": "stream",
     "text": [
      "Using TensorFlow backend.\n",
      "Namespace(batch_size=64, delimiter='tab', epochs=100, gpu='0', padding=50, training_data='./data/all_ocr_data.txt', validation_data='./data/all_ocr_data.txt')\n",
      "Loading datasets.\n",
      "Datasets Loaded.\n",
      "Compiling Model.\n",
      "2018-08-13 09:09:55.436466: I tensorflow/core/platform/cpu_feature_guard.cc:140] Your CPU supports instructions that this TensorFlow binary was not compiled to use: AVX2 AVX512F FMA\n",
      "2018-08-13 09:09:55.575829: I tensorflow/core/common_runtime/gpu/gpu_device.cc:1356] Found device 0 with properties: \n",
      "name: GeForce GTX 1080 Ti major: 6 minor: 1 memoryClockRate(GHz): 1.582\n",
      "pciBusID: 0000:17:00.0\n",
      "totalMemory: 10.92GiB freeMemory: 9.90GiB\n",
      "2018-08-13 09:09:55.575884: I tensorflow/core/common_runtime/gpu/gpu_device.cc:1435] Adding visible gpu devices: 0\n",
      "2018-08-13 09:09:55.824370: I tensorflow/core/common_runtime/gpu/gpu_device.cc:923] Device interconnect StreamExecutor with strength 1 edge matrix:\n",
      "2018-08-13 09:09:55.824423: I tensorflow/core/common_runtime/gpu/gpu_device.cc:929]      0 \n",
      "2018-08-13 09:09:55.824433: I tensorflow/core/common_runtime/gpu/gpu_device.cc:942] 0:   N \n",
      "2018-08-13 09:09:55.824770: I tensorflow/core/common_runtime/gpu/gpu_device.cc:1053] Created TensorFlow device (/job:localhost/replica:0/task:0/device:GPU:0 with 9579 MB memory) -> physical GPU (device: 0, name: GeForce GTX 1080 Ti, pci bus id: 0000:17:00.0, compute capability: 6.1)\n",
      "inputs shape: (?, ?, 512)\n",
      "_________________________________________________________________\n",
      "Layer (type)                 Output Shape              Param #   \n",
      "=================================================================\n",
      "input_1 (InputLayer)         (None, 50)                0         \n",
      "_________________________________________________________________\n",
      "OneHot (Embedding)           (None, 50, 116)           13456     \n",
      "_________________________________________________________________\n",
      "bidirectional_1 (Bidirection (None, 50, 512)           763904    \n",
      "_________________________________________________________________\n",
      "attention_decoder_1 (Attenti (None, 50, 116)           1110532   \n",
      "=================================================================\n",
      "Total params: 1,887,892\n",
      "Trainable params: 1,874,436\n",
      "Non-trainable params: 13,456\n",
      "_________________________________________________________________\n",
      "Model Compiled.\n",
      "Training. Ctrl+C to end early.\n",
      "Epoch 1/100\n",
      " 70/100 [====================>.........] - ETA: 10s - loss: 2.5164 - acc: 0.4569 - all_acc: 0.0000e+00^C\n"
     ]
    }
   ],
   "source": [
    "!python3 run.py -e 100 -t ./data/all_ocr_data.txt -v ./data/all_ocr_data.txt -d 'tab' -b 64"
   ]
  }
 ],
 "metadata": {
  "kernelspec": {
   "display_name": "Python 3",
   "language": "python",
   "name": "python3"
  },
  "language_info": {
   "codemirror_mode": {
    "name": "ipython",
    "version": 3
   },
   "file_extension": ".py",
   "mimetype": "text/x-python",
   "name": "python",
   "nbconvert_exporter": "python",
   "pygments_lexer": "ipython3",
   "version": "3.6.4"
  }
 },
 "nbformat": 4,
 "nbformat_minor": 2
}
