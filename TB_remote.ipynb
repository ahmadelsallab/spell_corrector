{
 "cells": [
  {
   "cell_type": "code",
   "execution_count": null,
   "metadata": {},
   "outputs": [
    {
     "name": "stdout",
     "output_type": "stream",
     "text": [
      "2018-08-06 09:44:20.542820: I tensorflow/core/platform/cpu_feature_guard.cc:140] Your CPU supports instructions that this TensorFlow binary was not compiled to use: AVX2 AVX512F FMA\n",
      "2018-08-06 09:44:20.553136: E tensorflow/stream_executor/cuda/cuda_driver.cc:406] failed call to cuInit: CUDA_ERROR_NO_DEVICE\n",
      "2018-08-06 09:44:20.553184: I tensorflow/stream_executor/cuda/cuda_diagnostics.cc:158] retrieving CUDA diagnostic information for host: daenerys\n",
      "2018-08-06 09:44:20.553192: I tensorflow/stream_executor/cuda/cuda_diagnostics.cc:165] hostname: daenerys\n",
      "2018-08-06 09:44:20.553236: I tensorflow/stream_executor/cuda/cuda_diagnostics.cc:189] libcuda reported version is: 384.130.0\n",
      "2018-08-06 09:44:20.553269: I tensorflow/stream_executor/cuda/cuda_diagnostics.cc:193] kernel reported version is: 396.24.2\n",
      "2018-08-06 09:44:20.553283: E tensorflow/stream_executor/cuda/cuda_diagnostics.cc:303] kernel version 396.24.2 does not match DSO version 384.130.0 -- cannot find working devices in this configuration\n",
      "\u001b[33mW0806 09:44:20.647277 Reloader tf_logging.py:121] Found more than one graph event per run, or there was a metagraph containing a graph_def, as well as one or more graph events.  Overwriting the graph with the newest event.\n",
      "\u001b[0m\u001b[33mW0806 09:44:20.654330 Reloader tf_logging.py:121] Found more than one metagraph event per run. Overwriting the metagraph with the newest event.\n",
      "\u001b[0mTensorBoard 1.8.0 at http://daenerys:6006 (Press CTRL+C to quit)\n"
     ]
    }
   ],
   "source": [
    "!tensorboard --logdir ./Graph"
   ]
  }
 ],
 "metadata": {
  "kernelspec": {
   "display_name": "Python 3",
   "language": "python",
   "name": "python3"
  },
  "language_info": {
   "codemirror_mode": {
    "name": "ipython",
    "version": 3
   },
   "file_extension": ".py",
   "mimetype": "text/x-python",
   "name": "python",
   "nbconvert_exporter": "python",
   "pygments_lexer": "ipython3",
   "version": "3.5.2"
  }
 },
 "nbformat": 4,
 "nbformat_minor": 2
}
